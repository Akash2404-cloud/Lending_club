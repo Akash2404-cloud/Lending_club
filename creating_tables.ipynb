{
 "cells": [
  {
   "cell_type": "code",
   "execution_count": 1,
   "id": "0041c63b",
   "metadata": {},
   "outputs": [],
   "source": [
    "from pyspark.sql import SparkSession\n",
    "spark = SparkSession \\\n",
    ".builder \\\n",
    ".appName('creating_sql_tables') \\\n",
    ".config('spark.shuffle.useOldFetchProtocol' , 'true') \\\n",
    ".config('spark.sql.warehouse.dir' , 'user/itv006879/warehouse') \\\n",
    ".enableHiveSupport() \\\n",
    ".master('yarn') \\\n",
    ".getOrCreate()\\"
   ]
  },
  {
   "cell_type": "code",
   "execution_count": 3,
   "id": "e0fcb3e6",
   "metadata": {},
   "outputs": [
    {
     "data": {
      "text/html": [
       "<table border='1'>\n",
       "<tr><th></th></tr>\n",
       "</table>\n"
      ],
      "text/plain": [
       "++\n",
       "||\n",
       "++\n",
       "++"
      ]
     },
     "execution_count": 3,
     "metadata": {},
     "output_type": "execute_result"
    }
   ],
   "source": [
    "spark.sql('create database if not exists lending_club_proj_6879')"
   ]
  },
  {
   "cell_type": "code",
   "execution_count": 7,
   "id": "a9f9729b",
   "metadata": {},
   "outputs": [
    {
     "data": {
      "text/html": [
       "<table border='1'>\n",
       "<tr><th></th></tr>\n",
       "</table>\n"
      ],
      "text/plain": [
       "++\n",
       "||\n",
       "++\n",
       "++"
      ]
     },
     "execution_count": 7,
     "metadata": {},
     "output_type": "execute_result"
    }
   ],
   "source": [
    "spark.sql(''' \n",
    "create EXTERNAL TABLE lending_club_proj_6879.customers(member_id string,emp_title\n",
    "string,emp_length int, home_ownership string,annual_income\n",
    "float,address_state string,address_zipcode string,address_country\n",
    "string,grade string,sub_grade string,verification_status\n",
    "string,total_high_credit_limit float,application_type\n",
    "string,join_annual_income float,verification_status_joint string,ingest_date\n",
    "timestamp) stored as parquet location '/public/trendytech/lendingclubproject/cleaned/customers_parquet'\n",
    "''')"
   ]
  },
  {
   "cell_type": "code",
   "execution_count": 16,
   "id": "d1295123",
   "metadata": {},
   "outputs": [
    {
     "name": "stdout",
     "output_type": "stream",
     "text": [
      "+----------------------------+--------------------------------------------------------------------------------------------+-------+\n",
      "|col_name                    |data_type                                                                                   |comment|\n",
      "+----------------------------+--------------------------------------------------------------------------------------------+-------+\n",
      "|member_id                   |string                                                                                      |null   |\n",
      "|emp_title                   |string                                                                                      |null   |\n",
      "|emp_length                  |int                                                                                         |null   |\n",
      "|home_ownership              |string                                                                                      |null   |\n",
      "|annual_income               |float                                                                                       |null   |\n",
      "|address_state               |string                                                                                      |null   |\n",
      "|address_zipcode             |string                                                                                      |null   |\n",
      "|address_country             |string                                                                                      |null   |\n",
      "|grade                       |string                                                                                      |null   |\n",
      "|sub_grade                   |string                                                                                      |null   |\n",
      "|verification_status         |string                                                                                      |null   |\n",
      "|total_high_credit_limit     |float                                                                                       |null   |\n",
      "|application_type            |string                                                                                      |null   |\n",
      "|join_annual_income          |float                                                                                       |null   |\n",
      "|verification_status_joint   |string                                                                                      |null   |\n",
      "|ingest_date                 |timestamp                                                                                   |null   |\n",
      "|                            |                                                                                            |       |\n",
      "|# Detailed Table Information|                                                                                            |       |\n",
      "|Database                    |lending_club_proj_6879                                                                      |       |\n",
      "|Table                       |customers                                                                                   |       |\n",
      "|Owner                       |itv006879                                                                                   |       |\n",
      "|Created Time                |Tue Oct 03 11:07:37 EDT 2023                                                                |       |\n",
      "|Last Access                 |UNKNOWN                                                                                     |       |\n",
      "|Created By                  |Spark 3.1.2                                                                                 |       |\n",
      "|Type                        |EXTERNAL                                                                                    |       |\n",
      "|Provider                    |hive                                                                                        |       |\n",
      "|Table Properties            |[transient_lastDdlTime=1696345657]                                                          |       |\n",
      "|Statistics                  |193848497 bytes                                                                             |       |\n",
      "|Location                    |hdfs://m01.itversity.com:9000/public/trendytech/lendingclubproject/cleaned/customers_parquet|       |\n",
      "|Serde Library               |org.apache.hadoop.hive.ql.io.parquet.serde.ParquetHiveSerDe                                 |       |\n",
      "|InputFormat                 |org.apache.hadoop.hive.ql.io.parquet.MapredParquetInputFormat                               |       |\n",
      "|OutputFormat                |org.apache.hadoop.hive.ql.io.parquet.MapredParquetOutputFormat                              |       |\n",
      "|Storage Properties          |[serialization.format=1]                                                                    |       |\n",
      "|Partition Provider          |Catalog                                                                                     |       |\n",
      "+----------------------------+--------------------------------------------------------------------------------------------+-------+\n",
      "\n"
     ]
    }
   ],
   "source": [
    "spark.sql('describe formatted lending_club_proj_6879.customers').show(100 , truncate = False)"
   ]
  },
  {
   "cell_type": "code",
   "execution_count": 15,
   "id": "4dae656e",
   "metadata": {},
   "outputs": [
    {
     "name": "stdout",
     "output_type": "stream",
     "text": [
      "+----------------------------+--------------------------------------------------------------------------------------------+-------+\n",
      "|col_name                    |data_type                                                                                   |comment|\n",
      "+----------------------------+--------------------------------------------------------------------------------------------+-------+\n",
      "|member_id                   |string                                                                                      |null   |\n",
      "|emp_title                   |string                                                                                      |null   |\n",
      "|emp_length                  |int                                                                                         |null   |\n",
      "|home_ownership              |string                                                                                      |null   |\n",
      "|annual_income               |float                                                                                       |null   |\n",
      "|address_state               |string                                                                                      |null   |\n",
      "|address_zipcode             |string                                                                                      |null   |\n",
      "|address_country             |string                                                                                      |null   |\n",
      "|grade                       |string                                                                                      |null   |\n",
      "|sub_grade                   |string                                                                                      |null   |\n",
      "|verification_status         |string                                                                                      |null   |\n",
      "|total_high_credit_limit     |float                                                                                       |null   |\n",
      "|application_type            |string                                                                                      |null   |\n",
      "|join_annual_income          |float                                                                                       |null   |\n",
      "|verification_status_joint   |string                                                                                      |null   |\n",
      "|ingest_date                 |timestamp                                                                                   |null   |\n",
      "|                            |                                                                                            |       |\n",
      "|# Detailed Table Information|                                                                                            |       |\n",
      "|Database                    |lending_club_proj_6879                                                                      |       |\n",
      "|Table                       |customers                                                                                   |       |\n",
      "|Owner                       |itv006879                                                                                   |       |\n",
      "|Created Time                |Tue Oct 03 11:07:37 EDT 2023                                                                |       |\n",
      "|Last Access                 |UNKNOWN                                                                                     |       |\n",
      "|Created By                  |Spark 3.1.2                                                                                 |       |\n",
      "|Type                        |EXTERNAL                                                                                    |       |\n",
      "|Provider                    |hive                                                                                        |       |\n",
      "|Table Properties            |[transient_lastDdlTime=1696345657]                                                          |       |\n",
      "|Statistics                  |193848497 bytes                                                                             |       |\n",
      "|Location                    |hdfs://m01.itversity.com:9000/public/trendytech/lendingclubproject/cleaned/customers_parquet|       |\n",
      "|Serde Library               |org.apache.hadoop.hive.ql.io.parquet.serde.ParquetHiveSerDe                                 |       |\n",
      "|InputFormat                 |org.apache.hadoop.hive.ql.io.parquet.MapredParquetInputFormat                               |       |\n",
      "|OutputFormat                |org.apache.hadoop.hive.ql.io.parquet.MapredParquetOutputFormat                              |       |\n",
      "|Storage Properties          |[serialization.format=1]                                                                    |       |\n",
      "|Partition Provider          |Catalog                                                                                     |       |\n",
      "+----------------------------+--------------------------------------------------------------------------------------------+-------+\n",
      "\n"
     ]
    }
   ],
   "source": [
    "spark.sql('describe extended lending_club_proj_6879.customers').show(100 , truncate = False)"
   ]
  },
  {
   "cell_type": "code",
   "execution_count": 17,
   "id": "8dc6af6e",
   "metadata": {},
   "outputs": [
    {
     "data": {
      "text/html": [
       "<table border='1'>\n",
       "<tr><th></th></tr>\n",
       "</table>\n"
      ],
      "text/plain": [
       "++\n",
       "||\n",
       "++\n",
       "++"
      ]
     },
     "execution_count": 17,
     "metadata": {},
     "output_type": "execute_result"
    }
   ],
   "source": [
    "spark.sql(\"\"\"\n",
    "CREATE EXTERNAL TABLE lending_club_proj_6879.loans(loan_id\n",
    "string,member_id string,loan_amount float,funded_amount\n",
    "float,loan_term_years integer,interest_rate float,monthly_installment\n",
    "float,issue_date string,loan_status string,loan_purpose string,loan_title\n",
    "string,ingest_date timestamp) stored as parquet\n",
    "LOCATION '/public/trendytech/lendingclubproject/cleaned/loans_parquet'\n",
    "\"\"\")\n"
   ]
  },
  {
   "cell_type": "code",
   "execution_count": 18,
   "id": "7db2ed0a",
   "metadata": {},
   "outputs": [
    {
     "data": {
      "text/html": [
       "<table border='1'>\n",
       "<tr><th></th></tr>\n",
       "</table>\n"
      ],
      "text/plain": [
       "++\n",
       "||\n",
       "++\n",
       "++"
      ]
     },
     "execution_count": 18,
     "metadata": {},
     "output_type": "execute_result"
    }
   ],
   "source": [
    "spark.sql(\"\"\"\n",
    "CREATE EXTERNAL TABLE lending_club_proj_6879.loans_repayments(loan_id\n",
    "string,total_principal_received float,total_interest_received\n",
    "float,total_late_fee_received float,total_payment_received\n",
    "float,last_payment_amount float,last_payment_date string,next_payment_date\n",
    "string,ingest_date timestamp) stored as parquet\n",
    "LOCATION '/public/trendytech/lendingclubproject/cleaned/loans_repayments_parquet'\n",
    "\"\"\")"
   ]
  },
  {
   "cell_type": "code",
   "execution_count": 19,
   "id": "75bcc06c",
   "metadata": {},
   "outputs": [
    {
     "data": {
      "text/html": [
       "<table border='1'>\n",
       "<tr><th></th></tr>\n",
       "</table>\n"
      ],
      "text/plain": [
       "++\n",
       "||\n",
       "++\n",
       "++"
      ]
     },
     "execution_count": 19,
     "metadata": {},
     "output_type": "execute_result"
    }
   ],
   "source": [
    "spark.sql(\"\"\"\n",
    "CREATE EXTERNAL TABLE lending_club_proj_6879.loans_defaulters_delinq(member_id\n",
    "string,delinq_2yrs integer,delinq_amnt float,mths_since_last_delinq integer)\n",
    "stored as parquet LOCATION '/public/trendytech/lendingclubproject/cleaned/loans_defaulters_delinq_parquet'\n",
    "\"\"\")"
   ]
  },
  {
   "cell_type": "code",
   "execution_count": 20,
   "id": "6db4e7c9",
   "metadata": {},
   "outputs": [
    {
     "data": {
      "text/html": [
       "<table border='1'>\n",
       "<tr><th></th></tr>\n",
       "</table>\n"
      ],
      "text/plain": [
       "++\n",
       "||\n",
       "++\n",
       "++"
      ]
     },
     "execution_count": 20,
     "metadata": {},
     "output_type": "execute_result"
    }
   ],
   "source": [
    "spark.sql(\"\"\"\n",
    "CREATE EXTERNAL TABLE lending_club_proj_6879.loans_defaulters_detail_rec_enq(member_id string,\n",
    "pub_rec integer, pub_rec_bankruptcies integer, inq_last_6mths integer) stored\n",
    "as parquet LOCATION '/public/trendytech/lendingclubproject/cleaned/loans_defaulters_detail_records_enq_parquet'\n",
    "\"\"\")\n"
   ]
  },
  {
   "cell_type": "code",
   "execution_count": 21,
   "id": "dd1b26ee",
   "metadata": {},
   "outputs": [
    {
     "data": {
      "text/html": [
       "<table border='1'>\n",
       "<tr><th></th></tr>\n",
       "</table>\n"
      ],
      "text/plain": [
       "++\n",
       "||\n",
       "++\n",
       "++"
      ]
     },
     "execution_count": 21,
     "metadata": {},
     "output_type": "execute_result"
    }
   ],
   "source": [
    "spark.sql('use lending_club_proj_6879')"
   ]
  },
  {
   "cell_type": "code",
   "execution_count": 23,
   "id": "0d3274ab",
   "metadata": {},
   "outputs": [
    {
     "name": "stdout",
     "output_type": "stream",
     "text": [
      "+----------------------+-------------------------------+-----------+\n",
      "|database              |tableName                      |isTemporary|\n",
      "+----------------------+-------------------------------+-----------+\n",
      "|lending_club_proj_6879|customers                      |false      |\n",
      "|lending_club_proj_6879|loans                          |false      |\n",
      "|lending_club_proj_6879|loans_defaulters_delinq        |false      |\n",
      "|lending_club_proj_6879|loans_defaulters_detail_rec_enq|false      |\n",
      "|lending_club_proj_6879|loans_repayments               |false      |\n",
      "+----------------------+-------------------------------+-----------+\n",
      "\n"
     ]
    }
   ],
   "source": [
    "spark.sql('show tables').show(truncate = False)"
   ]
  },
  {
   "cell_type": "code",
   "execution_count": null,
   "id": "7a5e2f81",
   "metadata": {},
   "outputs": [],
   "source": []
  }
 ],
 "metadata": {
  "kernelspec": {
   "display_name": "Pyspark 3",
   "language": "python",
   "name": "pyspark3"
  },
  "language_info": {
   "codemirror_mode": {
    "name": "ipython",
    "version": 3
   },
   "file_extension": ".py",
   "mimetype": "text/x-python",
   "name": "python",
   "nbconvert_exporter": "python",
   "pygments_lexer": "ipython3",
   "version": "3.6.12"
  }
 },
 "nbformat": 4,
 "nbformat_minor": 5
}
