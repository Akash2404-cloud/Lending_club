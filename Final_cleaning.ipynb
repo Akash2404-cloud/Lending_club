{
 "cells": [
  {
   "cell_type": "code",
   "execution_count": 1,
   "id": "7ae00395",
   "metadata": {},
   "outputs": [],
   "source": [
    "from pyspark.sql import SparkSession\n",
    "spark = SparkSession \\\n",
    ".builder \\\n",
    ".appName('Final_cleaning') \\\n",
    ".config('spark.shuffle.useOldFetchProtocol' , 'true') \\\n",
    ".config('spark.sql.warehouse.dir' , 'user/itv006879/warehouse') \\\n",
    ".enableHiveSupport() \\\n",
    ".master('yarn') \\\n",
    ".getOrCreate()"
   ]
  },
  {
   "cell_type": "code",
   "execution_count": 3,
   "id": "acc7d737",
   "metadata": {},
   "outputs": [],
   "source": [
    "customers_df = spark.sql('select * from lending_club_proj_6879.customers')"
   ]
  },
  {
   "cell_type": "code",
   "execution_count": null,
   "id": "d1610154",
   "metadata": {},
   "outputs": [],
   "source": [
    "loans_defaulters_delinq_df = spark.sql('select * from lending_club_proj_6879.loans_defaulters_delinq')"
   ]
  },
  {
   "cell_type": "code",
   "execution_count": null,
   "id": "26f1ae26",
   "metadata": {},
   "outputs": [],
   "source": [
    "loans_defaulters_detail_rec_enq_df = spark.sql('select * from lending_club_proj_6879.loans_defaulters_detail_rec_enq')"
   ]
  },
  {
   "cell_type": "code",
   "execution_count": 4,
   "id": "3122d1ea",
   "metadata": {},
   "outputs": [],
   "source": [
    "from pyspark.sql.functions import *\n",
    "bad_customer_ids_1 = customers_df.groupBy('member_id').agg(count('*').alias('total')).orderBy(col('total').desc()).where(col('total') > 1).select('member_id')"
   ]
  },
  {
   "cell_type": "code",
   "execution_count": 5,
   "id": "6a407a23",
   "metadata": {},
   "outputs": [],
   "source": [
    "bad_customer_ids_2 = loans_defaulters_delinq_df.groupBy('member_id').agg(count('*').alias('total')).orderBy(col('total').desc()).where(col('total') > 1).select('member_id')"
   ]
  },
  {
   "cell_type": "code",
   "execution_count": 6,
   "id": "b846e699",
   "metadata": {},
   "outputs": [],
   "source": [
    "bad_customer_ids_3 = loans_defaulters_detail_rec_enq_df.groupBy('member_id').agg(count('*').alias('total')).orderBy(col('total').desc()).where(col('total') > 1).select('member_id')"
   ]
  },
  {
   "cell_type": "code",
   "execution_count": 9,
   "id": "932042ae",
   "metadata": {},
   "outputs": [],
   "source": [
    "bad_data_customers = bad_customer_ids_1.union(bad_customer_ids_2).union(bad_customer_ids_3).distinct()"
   ]
  },
  {
   "cell_type": "code",
   "execution_count": 18,
   "id": "8fa6590f",
   "metadata": {},
   "outputs": [],
   "source": [
    "bad_data_customers.repartition(1).write \\\n",
    ".format('csv') \\\n",
    ".mode('overwrite') \\\n",
    ".option('header' , 'true') \\\n",
    ".option('path' , 'user/itv006879/bad_data/') \\\n",
    ".save()"
   ]
  },
  {
   "cell_type": "code",
   "execution_count": 10,
   "id": "bee4c1aa",
   "metadata": {},
   "outputs": [],
   "source": [
    "bad_customers_data.createOrReplaceTempView('bad_data')"
   ]
  },
  {
   "cell_type": "code",
   "execution_count": 12,
   "id": "20ea75d2",
   "metadata": {},
   "outputs": [],
   "source": [
    "customer_df = customers_df.where(\" member_id not in (select * from bad_data) \")"
   ]
  },
  {
   "cell_type": "code",
   "execution_count": 13,
   "id": "52c5ba62",
   "metadata": {},
   "outputs": [],
   "source": [
    "loans_defaulters_delinq_df = loans_defaulters_delinq_df.where(\" member_id not in (select * from bad_data) \")"
   ]
  },
  {
   "cell_type": "code",
   "execution_count": 14,
   "id": "c2276ff6",
   "metadata": {},
   "outputs": [],
   "source": [
    "loans_defaulters_detail_rec_enq_df = loans_defaulters_detail_rec_enq_df.where(\" member_id not in (select * from bad_data) \")"
   ]
  },
  {
   "cell_type": "code",
   "execution_count": 19,
   "id": "1ec14097",
   "metadata": {},
   "outputs": [],
   "source": [
    "customer_df.write \\\n",
    ".mode('overwrite') \\\n",
    ".option('path' , '/user/itv006879/refined_data/customer') \\\n",
    ".save()"
   ]
  },
  {
   "cell_type": "code",
   "execution_count": 21,
   "id": "d2dac31c",
   "metadata": {},
   "outputs": [],
   "source": [
    "loans_defaulters_delinq_df.write \\\n",
    ".mode('overwrite') \\\n",
    ".option('header' , 'true') \\\n",
    ".option('path' , '/user/itv006879/refined_data/loans_defaulters_delinq') \\\n",
    ".save()"
   ]
  },
  {
   "cell_type": "code",
   "execution_count": 22,
   "id": "3594a42b",
   "metadata": {},
   "outputs": [],
   "source": [
    "loans_defaulters_detail_rec_enq_df.write \\\n",
    ".mode('overwrite') \\\n",
    ".option('header' , 'true') \\\n",
    ".option('path' , '/user/itv006879/refined_data/loans_defaulters_detail_rec_enq') \\\n",
    ".save()"
   ]
  },
  {
   "cell_type": "code",
   "execution_count": null,
   "id": "9dc413a0",
   "metadata": {},
   "outputs": [],
   "source": [
    "spark.sql(''' \n",
    "create EXTERNAL TABLE lending_club_proj_6879.customers(member_id string,emp_title\n",
    "string,emp_length int, home_ownership string,annual_income\n",
    "float,address_state string,address_zipcode string,address_country\n",
    "string,grade string,sub_grade string,verification_status\n",
    "string,total_high_credit_limit float,application_type\n",
    "string,join_annual_income float,verification_status_joint string,ingest_date\n",
    "timestamp) stored as parquet location '/public/trendytech/lendingclubproject/re-cleaned/customers_new'\n",
    "''')"
   ]
  },
  {
   "cell_type": "code",
   "execution_count": null,
   "id": "347a6e54",
   "metadata": {},
   "outputs": [],
   "source": [
    "spark.sql(\"\"\"\n",
    "CREATE EXTERNAL TABLE lending_club_proj_6879.loans_defaulters_delinq(member_id\n",
    "string,delinq_2yrs integer,delinq_amnt float,mths_since_last_delinq integer)\n",
    "stored as parquet LOCATION '/public/trendytech/lendingclubproject/re-cleaned/loans_defaulters_delinq_new'\n",
    "\"\"\")"
   ]
  },
  {
   "cell_type": "code",
   "execution_count": null,
   "id": "6043e907",
   "metadata": {},
   "outputs": [],
   "source": [
    "spark.sql(\"\"\"\n",
    "CREATE EXTERNAL TABLE lending_club_proj_6879.loans_defaulters_detail_rec_enq(member_id string,\n",
    "pub_rec integer, pub_rec_bankruptcies integer, inq_last_6mths integer) stored\n",
    "as parquet LOCATION '/public/trendytech/lendingclubproject/re-cleaned/loans_defaulters_detail_records_enq_new'\n",
    "\"\"\")\n"
   ]
  }
 ],
 "metadata": {
  "kernelspec": {
   "display_name": "Pyspark 3",
   "language": "python",
   "name": "pyspark3"
  },
  "language_info": {
   "codemirror_mode": {
    "name": "ipython",
    "version": 3
   },
   "file_extension": ".py",
   "mimetype": "text/x-python",
   "name": "python",
   "nbconvert_exporter": "python",
   "pygments_lexer": "ipython3",
   "version": "3.6.12"
  }
 },
 "nbformat": 4,
 "nbformat_minor": 5
}
